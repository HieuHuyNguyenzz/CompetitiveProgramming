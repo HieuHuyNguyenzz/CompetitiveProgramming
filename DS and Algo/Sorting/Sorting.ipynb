{
 "cells": [
  {
   "cell_type": "markdown",
   "id": "bf84fa3b",
   "metadata": {},
   "source": [
    "# Các thuật toán sắp xếp"
   ]
  },
  {
   "cell_type": "markdown",
   "id": "ebe3aea3",
   "metadata": {},
   "source": [
    "Thuật toán sắp xếp được sử dụng khi cần sắp xếp một tập có cùng kiểu dữ liệu theo một quy luật nào đó \n",
    "\n",
    "Ví dụ như:\n",
    "\n",
    "- Sắp xếp một tập số theo thứ tự từ bé đến lớn\n",
    "\n",
    "- Sắp xếp tập các xâu theo thứ tự từ điển\n",
    "\n",
    "- ..."
   ]
  },
  {
   "cell_type": "markdown",
   "id": "e0dcea90",
   "metadata": {},
   "source": [
    "## Sắp xếp nổi bọt (Bubble Sort)\n",
    "- Xét lần lượt các cặp 2 phần tử liên tiếp. Nếu phần tử đứng sau nhỏ hơn phần tử đứng trước, ta đổi chỗ 2 phần tử. Nói cách khác, phần tử nhỏ nhất sẽ nổi lên trên.\n",
    "- Lặp lại đến khi không còn 2 phần tử nào thỏa mãn. Có thể chứng minh được số lần lặp không quá N−1, do một phần tử chỉ có thể nổi lên trên không quá N−1 lần.\n",
    "\n",
    "Độ phức tạp O(N^2)\n",
    ", không đủ nhanh với dữ liệu lớn."
   ]
  },
  {
   "cell_type": "code",
   "execution_count": 2,
   "id": "5780911f",
   "metadata": {},
   "outputs": [
    {
     "name": "stdout",
     "output_type": "stream",
     "text": [
      "[11, 12, 22, 25, 34, 64, 90]\n"
     ]
    }
   ],
   "source": [
    "def bubble_sort(arr):\n",
    "    n = len(arr)\n",
    "    for i in range(n):\n",
    "        for j in range(0, n-i-1):\n",
    "            if arr[j] > arr[j+1] :\n",
    "                arr[j], arr[j+1] = arr[j+1], arr[j]\n",
    "    return arr\n",
    "\n",
    "my_arr = [64, 34, 25, 12, 22, 11, 90]\n",
    "sorted_arr = bubble_sort(my_arr)\n",
    "print(sorted_arr)"
   ]
  },
  {
   "cell_type": "markdown",
   "id": "fb106358",
   "metadata": {},
   "source": [
    "## Sắp xếp chèn (Insertion Sort)\n",
    "Ý tưởng chính của thuật toán là ta sẽ sắp xếp lần lượt từng đoạn gồm 1 phần tử đầu tiên, 2 phần tử đầu tiên, …, N\n",
    " phần tử.\n",
    "\n",
    "Giả sử ta đã sắp xếp xong i\n",
    " phần tử của mảng. Để sắp xếp i+1\n",
    " phần tử đầu tiên, ta tìm vị trí phù hợp của phần tử thứ i+1\n",
    " và \"chèn\" nó vào đó.\n",
    " \n",
    "Độ phức tạp O(N2)\n",
    ", không đủ nhanh với dữ liệu lớn."
   ]
  },
  {
   "cell_type": "code",
   "execution_count": 3,
   "id": "9d6e5e5a",
   "metadata": {},
   "outputs": [
    {
     "name": "stdout",
     "output_type": "stream",
     "text": [
      "[1, 2, 4, 5, 7, 8, 9]\n"
     ]
    }
   ],
   "source": [
    "def insertion_sort(arr):\n",
    "    for i in range(1, len(arr)):\n",
    "        key = arr[i]\n",
    "        \n",
    "        j = i - 1\n",
    "        while j >= 0 and key < arr[j]:\n",
    "            arr[j + 1] = arr[j]\n",
    "            j -= 1\n",
    "        arr[j + 1] = key\n",
    "\n",
    "    return arr\n",
    "\n",
    "my_arr = [7, 4, 2, 8, 9, 1, 5]\n",
    "sorted_arr = insertion_sort(my_arr)\n",
    "print(sorted_arr)"
   ]
  },
  {
   "cell_type": "markdown",
   "id": "27bbcbcf",
   "metadata": {},
   "source": [
    "## Sắp xếp trộn (Merge sort)\n",
    "Sắp xếp trộn hoạt động kiểu đệ quy:\n",
    "\n",
    "Đầu tiên chia dữ liệu thành 2 phần, và sắp xếp từng phần.\n",
    "\n",
    "Sau đó gộp 2 phần lại với nhau. Để gộp 2 phần, ta làm như sau:\n",
    "- Tạo một dãy A\n",
    " mới để chứa các phần tử đã sắp xếp.\n",
    "- So sánh 2 phần tử đầu tiên của 2 phần. Phần tử nhỏ hơn ta cho vào A\n",
    " và xóa khỏi phần tương ứng.\n",
    "\n",
    "Tiếp tục như vậy đến khi ta cho hết các phần tử vào dãy A\n"
   ]
  },
  {
   "cell_type": "code",
   "execution_count": 8,
   "id": "a814ec65",
   "metadata": {},
   "outputs": [
    {
     "name": "stdout",
     "output_type": "stream",
     "text": [
      "[1, 2, 4, 5, 7, 8, 9]\n"
     ]
    }
   ],
   "source": [
    "def merge_sort(arr):\n",
    "    if len(arr) > 1:\n",
    "        mid = len(arr) // 2\n",
    "        \n",
    "        left = arr[:mid]\n",
    "        right = arr[mid:]\n",
    "\n",
    "        merge_sort(left)\n",
    "        merge_sort(right)\n",
    "\n",
    "        i = j = k = 0\n",
    "\n",
    "        while i < len(left) and j < len(right):\n",
    "            if left[i] < right[j]:\n",
    "                arr[k] = left[i]\n",
    "                i += 1\n",
    "            else:\n",
    "                arr[k] = right[j]\n",
    "                j += 1\n",
    "            k += 1\n",
    "\n",
    "        while i < len(left):\n",
    "            arr[k] = left[i]\n",
    "            i += 1\n",
    "            k += 1\n",
    "            \n",
    "        while j < len(right):\n",
    "            arr[k] = right[j]\n",
    "            j += 1\n",
    "            k += 1\n",
    "    return arr\n",
    "\n",
    "my_arr = [7, 4, 2, 8, 9, 1, 5]\n",
    "sorted_arr = merge_sort(my_arr)\n",
    "print(sorted_arr)"
   ]
  },
  {
   "attachments": {
    "image.png": {
     "image/png": "[encoded data removed]"
    }
   },
   "cell_type": "markdown",
   "id": "93da8de8",
   "metadata": {},
   "source": [
    "## Sắp xếp vun đống (HeapSort)\n",
    "Ý tưởng của thuật toán Heap Sort là sử dụng cấu trúc heap để sắp xếp danh sách. Heap là một cấu trúc dữ liệu gần giống như cây nhị phân, nơi mà các nút con luôn nhỏ hơn hoặc bằng nút cha của chúng.\n",
    "![image.png](attachment:image.png)\n",
    "Thuật toán Heap Sort bắt đầu bằng cách chuyển danh sách trở thành heap, hay là cây nhị phân, theo quy tắc heap - một min heap hoặc max heap. Sau khi chuyển danh sách sang dạng cây nhị phân, chúng ta sẽ đẩy phần tử lớn nhất hay nhỏ nhất vào cuối danh sách bằng cách tráo đổi phần tử cuối của danh sách với phần tử đầu tiên của list và loại bỏ phần tử lớn nhất hoặc nhỏ nhất này khỏi danh sách. Cuối cùng, chúng ta giảm kích thước heap đi một và thực hiện hoạt động tráo đổi cho đến khi heap rỗng."
   ]
  },
  {
   "cell_type": "code",
   "execution_count": 9,
   "id": "e579f831",
   "metadata": {},
   "outputs": [
    {
     "name": "stdout",
     "output_type": "stream",
     "text": [
      "[1, 3, 5, 6, 8, 9]\n"
     ]
    }
   ],
   "source": [
    "def heapify(arr, n, i):\n",
    "    largest = i\n",
    "    l = 2 * i + 1\n",
    "    r = 2 * i + 2\n",
    "\n",
    "    if l < n and arr[i] < arr[l]:\n",
    "        largest = l\n",
    "\n",
    "    if r < n and arr[largest] < arr[r]:\n",
    "        largest = r\n",
    "\n",
    "    if largest != i:\n",
    "        arr[i], arr[largest] = arr[largest], arr[i]\n",
    "        heapify(arr, n, largest)\n",
    "\n",
    "def heap_sort(arr):\n",
    "    n = len(arr)\n",
    "\n",
    "    for i in range(n // 2 - 1, -1, -1):\n",
    "        heapify(arr, n, i)\n",
    "\n",
    "    for i in range(n - 1, 0, -1):\n",
    "        arr[0], arr[i] = arr[i], arr[0]\n",
    "        heapify(arr, i, 0)\n",
    "\n",
    "    return arr\n",
    "\n",
    "# ví dụ cách sử dụng:\n",
    "my_arr = [1, 3, 6, 5, 9, 8]\n",
    "sorted_arr = heap_sort(my_arr)\n",
    "print(sorted_arr)\n"
   ]
  },
  {
   "cell_type": "markdown",
   "id": "2ebdfd5e",
   "metadata": {},
   "source": [
    "## Sắp xếp nhanh (QuickSort)\n",
    "Ý tưởng của thuật toán Quicksort là sử dụng phương pháp chia để trị để sắp xếp danh sách.\n",
    "\n",
    "Thuật toán Quicksort lấy một phần tử làm chốt (pivot) và sử dụng nó để chia danh sách thành hai phần, một phần chứa tất cả các phần tử nhỏ hơn hoặc bằng chốt và một phần chứa tất cả các phần tử lớn hơn chốt. Sau đó, Quicksort được đệ quy áp dụng cho cả hai phần này, cho đến khi danh sách đã được sắp xếp hoàn chỉnh.\n",
    "\n",
    "Cụ thể, thuật toán Quicksort được triển khai như sau:\n",
    "\n",
    "- Chọn phần tử chốt (pivot) trong danh sách làm trung tâm của việc chia.\n",
    "\n",
    "- Phân chia danh sách thành hai danh sách con: một danh sách con chứa tất cả các phần tử nhỏ hơn hoặc bằng chốt và một danh sách con chứa tất cả các phần tử lớn hơn chốt.\n",
    "\n",
    "- Đệ quy Quicksort trên cả hai danh sách con.\n",
    "\n",
    "- Kết hợp danh sách con đã sắp xếp vào một danh sách hoàn chỉnh."
   ]
  },
  {
   "cell_type": "code",
   "execution_count": 10,
   "id": "4626e277",
   "metadata": {},
   "outputs": [
    {
     "name": "stdout",
     "output_type": "stream",
     "text": [
      "[1, 2, 4, 5, 7, 8, 9]\n"
     ]
    }
   ],
   "source": [
    "def quicksort(arr):\n",
    "    if len(arr) <= 1:\n",
    "        return arr\n",
    "    else:\n",
    "        pivot = arr[0]\n",
    "        left = []\n",
    "        right = []\n",
    "        for i in range(1, len(arr)):\n",
    "            if arr[i] < pivot:\n",
    "                left.append(arr[i])\n",
    "            else:\n",
    "                right.append(arr[i])\n",
    "        return quicksort(left) + [pivot] + quicksort(right)\n",
    "\n",
    "my_arr = [7, 4, 2, 8, 9, 1, 5]\n",
    "sorted_arr = quicksort(my_arr)\n",
    "print(sorted_arr)\n"
   ]
  },
  {
   "cell_type": "markdown",
   "id": "d582c63b",
   "metadata": {},
   "source": [
    "## Hàm sort có sẵn\n",
    "Thông thường, các ngôn ngữ lập trình sẽ có sẵn các hàm sắp xếp bên trong các thư viện"
   ]
  },
  {
   "cell_type": "code",
   "execution_count": 11,
   "id": "3e427d5e",
   "metadata": {},
   "outputs": [
    {
     "data": {
      "text/plain": [
       "[1, 2, 3, 4, 5, 7, 8]"
      ]
     },
     "execution_count": 11,
     "metadata": {},
     "output_type": "execute_result"
    }
   ],
   "source": [
    "number_list = [7, 5, 8, 2, 4, 1, 3]\n",
    "sorted(number_list)"
   ]
  }
 ],
 "metadata": {
  "kernelspec": {
   "display_name": "Python 3 (ipykernel)",
   "language": "python",
   "name": "python3"
  },
  "language_info": {
   "codemirror_mode": {
    "name": "ipython",
    "version": 3
   },
   "file_extension": ".py",
   "mimetype": "text/x-python",
   "name": "python",
   "nbconvert_exporter": "python",
   "pygments_lexer": "ipython3",
   "version": "3.9.13"
  }
 },
 "nbformat": 4,
 "nbformat_minor": 5
}
